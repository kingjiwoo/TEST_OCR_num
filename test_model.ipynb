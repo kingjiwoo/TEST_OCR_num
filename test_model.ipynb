{
  "nbformat": 4,
  "nbformat_minor": 0,
  "metadata": {
    "colab": {
      "provenance": [],
      "machine_shape": "hm",
      "mount_file_id": "1OV4Fk4pzydzGpxB-SC6ATlyY5crlQOio",
      "authorship_tag": "ABX9TyPs4PnEEzHeL6pJ/AqTqgrp",
      "include_colab_link": true
    },
    "kernelspec": {
      "name": "python3",
      "display_name": "Python 3"
    },
    "language_info": {
      "name": "python"
    },
    "accelerator": "GPU",
    "gpuClass": "premium"
  },
  "cells": [
    {
      "cell_type": "markdown",
      "metadata": {
        "id": "view-in-github",
        "colab_type": "text"
      },
      "source": [
        "<a href=\"https://colab.research.google.com/github/kingjiwoo/TEST_OCR_num/blob/main/test_model.ipynb\" target=\"_parent\"><img src=\"https://colab.research.google.com/assets/colab-badge.svg\" alt=\"Open In Colab\"/></a>"
      ]
    },
    {
      "cell_type": "code",
      "source": [
        "!pip install keras"
      ],
      "metadata": {
        "colab": {
          "base_uri": "https://localhost:8080/"
        },
        "id": "YzqXtRlYODSb",
        "outputId": "bed821b3-8ea3-43d4-8fa7-a66f1e1a84ce"
      },
      "execution_count": 1,
      "outputs": [
        {
          "output_type": "stream",
          "name": "stdout",
          "text": [
            "Looking in indexes: https://pypi.org/simple, https://us-python.pkg.dev/colab-wheels/public/simple/\n",
            "Requirement already satisfied: keras in /usr/local/lib/python3.7/dist-packages (2.9.0)\n"
          ]
        }
      ]
    },
    {
      "cell_type": "code",
      "execution_count": 2,
      "metadata": {
        "id": "kPP1C7EiAEHG"
      },
      "outputs": [],
      "source": [
        "#라이브러리 프레임워크 호출\n",
        "import tensorflow as tf\n",
        "import numpy as np\n",
        "import matplotlib.pyplot as plt \n",
        "\n",
        "\n",
        "#MNIST 데이터셋 호출 \n",
        "(X_train, y_train), (X_test, y_test) = tf.keras.datasets.mnist.load_data()\n",
        "\n",
        "#데이터 정규화 \n",
        "X_train, X_test = X_train/255.0, X_test/255.0\n",
        "\n",
        "#이미지 데이터 reshape\n",
        "\n",
        "X_train = X_train.reshape(-1, 28, 28, 1)\n",
        "X_test = X_test.reshape(-1, 28, 28, 1)"
      ]
    },
    {
      "cell_type": "code",
      "source": [
        "type(y_train[0])"
      ],
      "metadata": {
        "colab": {
          "base_uri": "https://localhost:8080/"
        },
        "id": "yPJD7GzQGtHy",
        "outputId": "12682b46-68f5-434d-dddf-2424b74e6336"
      },
      "execution_count": 3,
      "outputs": [
        {
          "output_type": "execute_result",
          "data": {
            "text/plain": [
              "numpy.uint8"
            ]
          },
          "metadata": {},
          "execution_count": 3
        }
      ]
    },
    {
      "cell_type": "code",
      "source": [
        "# 이미지 사이즈 확인\n",
        "print(X_train.shape, X_test.shape)"
      ],
      "metadata": {
        "colab": {
          "base_uri": "https://localhost:8080/"
        },
        "id": "O5tp-r0sEqK7",
        "outputId": "2b1e4469-5424-45a5-a0bb-e7c080900c0a"
      },
      "execution_count": 4,
      "outputs": [
        {
          "output_type": "stream",
          "name": "stdout",
          "text": [
            "(60000, 28, 28, 1) (10000, 28, 28, 1)\n"
          ]
        }
      ]
    },
    {
      "cell_type": "code",
      "source": [
        "# Sequential API 사용해 model 생성\n",
        "model = tf.keras.Sequential([\n",
        "                             tf.keras.layers.Conv2D(64, (3,3), activation='relu',input_shape=(28,28,1), padding = 'same'),\n",
        "                             tf.keras.layers.Conv2D(64, (3,3), activation='relu', padding = 'same'),\n",
        "                             tf.keras.layers.MaxPooling2D((2,2)),\n",
        "\n",
        "                             tf.keras.layers.Conv2D(128, (3,3), activation='relu',input_shape=(28,28,1), padding = 'same'),\n",
        "                             tf.keras.layers.Conv2D(256, (3,3), activation='relu', padding = 'valid'),\n",
        "                             tf.keras.layers.MaxPooling2D((2,2)),\n",
        "                             \n",
        "                             #Classifier 출력층\n",
        "                             tf.keras.layers.Flatten(),\n",
        "                             tf.keras.layers.Dense(units=512, activation='relu'),\n",
        "                             tf.keras.layers.Dropout(0.5),\n",
        "                             tf.keras.layers.Dense(units=256, activation='relu'),\n",
        "                             tf.keras.layers.Dropout(0.5),\n",
        "                             tf.keras.layers.Dense(units= 10,activation='softmax')\n",
        "                             \n",
        "])"
      ],
      "metadata": {
        "id": "4TRG5r50Ff6-"
      },
      "execution_count": 5,
      "outputs": []
    },
    {
      "cell_type": "code",
      "source": [
        "#모델 컴파일 \n",
        "model.compile(optimizer=tf.optimizers.Adam(lr=0.001), loss='sparse_categorical_crossentropy',\n",
        "              metrics=['accuracy'])\n",
        "\n"
      ],
      "metadata": {
        "colab": {
          "base_uri": "https://localhost:8080/"
        },
        "id": "JG8XjwwNF-QI",
        "outputId": "5d81cec7-c064-4106-b10f-3a797b1004d0"
      },
      "execution_count": 6,
      "outputs": [
        {
          "output_type": "stream",
          "name": "stderr",
          "text": [
            "/usr/local/lib/python3.7/dist-packages/keras/optimizers/optimizer_v2/adam.py:110: UserWarning: The `lr` argument is deprecated, use `learning_rate` instead.\n",
            "  super(Adam, self).__init__(name, **kwargs)\n"
          ]
        }
      ]
    },
    {
      "cell_type": "code",
      "source": [
        "#모델 학습 \n",
        "model.fit(X_train, y_train, validation_data=(X_test, y_test),epochs=10, batch_size=100)\n"
      ],
      "metadata": {
        "colab": {
          "base_uri": "https://localhost:8080/"
        },
        "id": "E2BzVYs5KLTq",
        "outputId": "814fcf0f-9548-4919-88b1-5dc352493e5d"
      },
      "execution_count": 7,
      "outputs": [
        {
          "output_type": "stream",
          "name": "stdout",
          "text": [
            "Epoch 1/10\n",
            "600/600 [==============================] - 6s 5ms/step - loss: 0.1974 - accuracy: 0.9384 - val_loss: 0.0379 - val_accuracy: 0.9877\n",
            "Epoch 2/10\n",
            "600/600 [==============================] - 3s 5ms/step - loss: 0.0562 - accuracy: 0.9840 - val_loss: 0.0215 - val_accuracy: 0.9929\n",
            "Epoch 3/10\n",
            "600/600 [==============================] - 3s 5ms/step - loss: 0.0414 - accuracy: 0.9889 - val_loss: 0.0223 - val_accuracy: 0.9924\n",
            "Epoch 4/10\n",
            "600/600 [==============================] - 3s 5ms/step - loss: 0.0332 - accuracy: 0.9908 - val_loss: 0.0233 - val_accuracy: 0.9933\n",
            "Epoch 5/10\n",
            "600/600 [==============================] - 3s 5ms/step - loss: 0.0261 - accuracy: 0.9929 - val_loss: 0.0211 - val_accuracy: 0.9927\n",
            "Epoch 6/10\n",
            "600/600 [==============================] - 3s 5ms/step - loss: 0.0228 - accuracy: 0.9926 - val_loss: 0.0210 - val_accuracy: 0.9944\n",
            "Epoch 7/10\n",
            "600/600 [==============================] - 3s 5ms/step - loss: 0.0211 - accuracy: 0.9939 - val_loss: 0.0219 - val_accuracy: 0.9933\n",
            "Epoch 8/10\n",
            "600/600 [==============================] - 3s 5ms/step - loss: 0.0180 - accuracy: 0.9948 - val_loss: 0.0219 - val_accuracy: 0.9935\n",
            "Epoch 9/10\n",
            "600/600 [==============================] - 3s 5ms/step - loss: 0.0161 - accuracy: 0.9955 - val_loss: 0.0327 - val_accuracy: 0.9919\n",
            "Epoch 10/10\n",
            "600/600 [==============================] - 3s 5ms/step - loss: 0.0145 - accuracy: 0.9956 - val_loss: 0.0211 - val_accuracy: 0.9945\n"
          ]
        },
        {
          "output_type": "execute_result",
          "data": {
            "text/plain": [
              "<keras.callbacks.History at 0x7f305d6eca10>"
            ]
          },
          "metadata": {},
          "execution_count": 7
        }
      ]
    },
    {
      "cell_type": "code",
      "source": [
        "result = model.evaluate(X_test, y_test)\n",
        "print(\"최종 예측 성공률(%): \", result[1]*100)"
      ],
      "metadata": {
        "colab": {
          "base_uri": "https://localhost:8080/"
        },
        "id": "YwDtiXxoKQR9",
        "outputId": "a8f7d40e-44a1-44ca-c197-ab501ad7a3d6"
      },
      "execution_count": 8,
      "outputs": [
        {
          "output_type": "stream",
          "name": "stdout",
          "text": [
            "313/313 [==============================] - 1s 3ms/step - loss: 0.0211 - accuracy: 0.9945\n",
            "최종 예측 성공률(%):  99.44999814033508\n"
          ]
        }
      ]
    },
    {
      "cell_type": "markdown",
      "source": [
        "숫자 인식"
      ],
      "metadata": {
        "id": "K2BV7Wrqf7dL"
      }
    },
    {
      "cell_type": "code",
      "source": [
        "import cv2\n",
        "import matplotlib.pyplot as plt"
      ],
      "metadata": {
        "id": "4N12QUpdLL-m"
      },
      "execution_count": 9,
      "outputs": []
    },
    {
      "cell_type": "code",
      "source": [
        "#이미지 읽어 오기 \n",
        "img = cv2.imread('/content/drive/MyDrive/image.png')\n",
        "plt.figure(figsize=(13,12))\n",
        "print('img')"
      ],
      "metadata": {
        "colab": {
          "base_uri": "https://localhost:8080/",
          "height": 54
        },
        "id": "V5PkP7iYf-p8",
        "outputId": "6fa672ca-ef62-4a30-a934-6429152bac12"
      },
      "execution_count": 10,
      "outputs": [
        {
          "output_type": "stream",
          "name": "stdout",
          "text": [
            "img\n"
          ]
        },
        {
          "output_type": "display_data",
          "data": {
            "text/plain": [
              "<Figure size 936x864 with 0 Axes>"
            ]
          },
          "metadata": {}
        }
      ]
    },
    {
      "cell_type": "code",
      "source": [
        "print(img.shape, type(img))"
      ],
      "metadata": {
        "colab": {
          "base_uri": "https://localhost:8080/"
        },
        "id": "rxPjnTbQH7Pv",
        "outputId": "44157f9a-69b2-4cfe-f381-9b3fafa4a686"
      },
      "execution_count": 11,
      "outputs": [
        {
          "output_type": "stream",
          "name": "stdout",
          "text": [
            "(246, 177, 3) <class 'numpy.ndarray'>\n"
          ]
        }
      ]
    },
    {
      "cell_type": "code",
      "source": [
        "img"
      ],
      "metadata": {
        "colab": {
          "base_uri": "https://localhost:8080/"
        },
        "id": "TbAPln2iIlCB",
        "outputId": "b74c607e-4559-4497-be4e-5d6b1f062f7e"
      },
      "execution_count": 12,
      "outputs": [
        {
          "output_type": "execute_result",
          "data": {
            "text/plain": [
              "array([[[172, 172, 172],\n",
              "        [172, 172, 172],\n",
              "        [172, 172, 172],\n",
              "        ...,\n",
              "        [167, 173, 172],\n",
              "        [167, 173, 172],\n",
              "        [167, 173, 172]],\n",
              "\n",
              "       [[172, 172, 172],\n",
              "        [172, 172, 172],\n",
              "        [172, 172, 172],\n",
              "        ...,\n",
              "        [167, 173, 172],\n",
              "        [167, 173, 172],\n",
              "        [167, 173, 172]],\n",
              "\n",
              "       [[172, 172, 172],\n",
              "        [172, 172, 172],\n",
              "        [172, 172, 172],\n",
              "        ...,\n",
              "        [167, 173, 172],\n",
              "        [167, 173, 172],\n",
              "        [167, 173, 172]],\n",
              "\n",
              "       ...,\n",
              "\n",
              "       [[159, 165, 164],\n",
              "        [159, 165, 164],\n",
              "        [159, 165, 164],\n",
              "        ...,\n",
              "        [161, 161, 161],\n",
              "        [161, 161, 161],\n",
              "        [161, 161, 161]],\n",
              "\n",
              "       [[159, 165, 164],\n",
              "        [159, 165, 164],\n",
              "        [159, 165, 164],\n",
              "        ...,\n",
              "        [161, 161, 161],\n",
              "        [161, 161, 161],\n",
              "        [161, 161, 161]],\n",
              "\n",
              "       [[159, 165, 164],\n",
              "        [159, 165, 164],\n",
              "        [159, 165, 164],\n",
              "        ...,\n",
              "        [161, 161, 161],\n",
              "        [161, 161, 161],\n",
              "        [161, 161, 161]]], dtype=uint8)"
            ]
          },
          "metadata": {},
          "execution_count": 12
        }
      ]
    },
    {
      "cell_type": "code",
      "source": [
        "#이미지 흑백처리 \n",
        "img = cv2.cvtColor(img, cv2.COLOR_BGR2GRAY)\n",
        "\n",
        "#이미지 블러 \n",
        "img = cv2.GaussianBlur(img, (5,5), 0)\n",
        "\n",
        "#이미지 내의 경계 찾기 \n",
        "ret, img_th = cv2.threshold(img, 127, 255, cv2.THRESH_BINARY_INV)\n",
        "contours, hierachy = cv2.findContours(img_th.copy(), cv2.RETR_TREE, cv2.CHAIN_APPROX_NONE)"
      ],
      "metadata": {
        "id": "DWL9PmBBhnRs"
      },
      "execution_count": 13,
      "outputs": []
    },
    {
      "cell_type": "code",
      "source": [
        "#경계를 직사각형으로 찾기 \n",
        "rects = [ cv2.boundingRect(each) for each in contours]"
      ],
      "metadata": {
        "id": "p2cch7IxHuG7"
      },
      "execution_count": 14,
      "outputs": []
    },
    {
      "cell_type": "code",
      "source": [
        "# 직사각형 갯수가 맞는지 점검\n",
        "len(rects)"
      ],
      "metadata": {
        "colab": {
          "base_uri": "https://localhost:8080/"
        },
        "id": "a3QsJKvG4eUQ",
        "outputId": "3bddd262-a204-4e29-f5f6-691645e7406d"
      },
      "execution_count": 15,
      "outputs": [
        {
          "output_type": "execute_result",
          "data": {
            "text/plain": [
              "19"
            ]
          },
          "metadata": {},
          "execution_count": 15
        }
      ]
    },
    {
      "cell_type": "code",
      "source": [
        "#직사각형 좌표 확인 \n",
        "rects"
      ],
      "metadata": {
        "colab": {
          "base_uri": "https://localhost:8080/"
        },
        "id": "h44msVe04ftH",
        "outputId": "f16e615e-2b69-47eb-af31-f08c1b65ac8d"
      },
      "execution_count": 16,
      "outputs": [
        {
          "output_type": "execute_result",
          "data": {
            "text/plain": [
              "[(30, 189, 3, 9),\n",
              " (78, 186, 14, 12),\n",
              " (112, 184, 12, 19),\n",
              " (51, 182, 13, 17),\n",
              " (110, 142, 3, 13),\n",
              " (138, 141, 15, 16),\n",
              " (87, 141, 2, 14),\n",
              " (47, 140, 14, 14),\n",
              " (26, 140, 10, 15),\n",
              " (137, 83, 2, 13),\n",
              " (28, 83, 9, 11),\n",
              " (50, 80, 10, 15),\n",
              " (84, 79, 9, 12),\n",
              " (114, 77, 9, 14),\n",
              " (25, 28, 3, 12),\n",
              " (46, 27, 16, 16),\n",
              " (82, 26, 9, 13),\n",
              " (130, 25, 12, 15),\n",
              " (110, 25, 9, 13)]"
            ]
          },
          "metadata": {},
          "execution_count": 16
        }
      ]
    },
    {
      "cell_type": "code",
      "source": [
        "#직사각형 정렬, 두번째 원소 5개 단위로, 첫번째 원소 오름 차순 \n",
        "rects.sort(key=lambda x: (x[1], x[0]))"
      ],
      "metadata": {
        "id": "5HnMK9DV43pc"
      },
      "execution_count": 17,
      "outputs": []
    },
    {
      "cell_type": "code",
      "source": [
        "#정렬 확인\n",
        "rects"
      ],
      "metadata": {
        "colab": {
          "base_uri": "https://localhost:8080/"
        },
        "id": "m2gYa15T5vlH",
        "outputId": "d5e8ca88-4297-444b-de4b-1ea4ce2882e4"
      },
      "execution_count": 18,
      "outputs": [
        {
          "output_type": "execute_result",
          "data": {
            "text/plain": [
              "[(110, 25, 9, 13),\n",
              " (130, 25, 12, 15),\n",
              " (82, 26, 9, 13),\n",
              " (46, 27, 16, 16),\n",
              " (25, 28, 3, 12),\n",
              " (114, 77, 9, 14),\n",
              " (84, 79, 9, 12),\n",
              " (50, 80, 10, 15),\n",
              " (28, 83, 9, 11),\n",
              " (137, 83, 2, 13),\n",
              " (26, 140, 10, 15),\n",
              " (47, 140, 14, 14),\n",
              " (87, 141, 2, 14),\n",
              " (138, 141, 15, 16),\n",
              " (110, 142, 3, 13),\n",
              " (51, 182, 13, 17),\n",
              " (112, 184, 12, 19),\n",
              " (78, 186, 14, 12),\n",
              " (30, 189, 3, 9)]"
            ]
          },
          "metadata": {},
          "execution_count": 18
        }
      ]
    },
    {
      "cell_type": "code",
      "source": [
        "#리스트 5개 단위로 나누고, 정렬, 다시 합치기\n",
        "def list_chunk(lst, n):\n",
        "    lists_chunked = [lst[i:i+n] for i in range(0, len(lst), n)]\n",
        "    imgs_chunked = list(map(sorted, lists_chunked))\n",
        "    rects = sum(imgs_chunked, [])\n",
        "    return rects\n",
        "\n",
        "rects = list_chunk(rects, 5)\n",
        "print(rects)"
      ],
      "metadata": {
        "colab": {
          "base_uri": "https://localhost:8080/"
        },
        "id": "eH2XjvoMQW5O",
        "outputId": "7d355aa5-b005-4145-b33e-ab753ef1d4e6"
      },
      "execution_count": 19,
      "outputs": [
        {
          "output_type": "stream",
          "name": "stdout",
          "text": [
            "[(25, 28, 3, 12), (46, 27, 16, 16), (82, 26, 9, 13), (110, 25, 9, 13), (130, 25, 12, 15), (28, 83, 9, 11), (50, 80, 10, 15), (84, 79, 9, 12), (114, 77, 9, 14), (137, 83, 2, 13), (26, 140, 10, 15), (47, 140, 14, 14), (87, 141, 2, 14), (110, 142, 3, 13), (138, 141, 15, 16), (30, 189, 3, 9), (51, 182, 13, 17), (78, 186, 14, 12), (112, 184, 12, 19)]\n"
          ]
        }
      ]
    },
    {
      "cell_type": "code",
      "source": [
        "from google.colab.patches import cv2_imshow\n",
        "#추출한 숫자 영역 전처리 \n",
        "img_classify = img.copy()\n",
        "\n",
        "#최종 이미지 파일용 배열 \n",
        "mnist_imgs =[]\n",
        "margin_pixel = 15\n",
        "\n",
        "#숫자 영역 추출 및 reshape(28,28,1)\n",
        "\n",
        "for rect in rects:\n",
        "    im = img_classify[rect[1]-margin_pixel:rect[1]+rect[3]+margin_pixel, rect[0]-margin_pixel:rect[0]+rect[2]+margin_pixel]\n",
        "    row, col = im.shape[:2]\n",
        "\n",
        "    # 정방형 비율을 맞춰주기 위해 변수 이용\n",
        "    bordersize = max(row, col)\n",
        "    diff = min(row,col)\n",
        "\n",
        "    # 이미지의 intensity의 평균을 구함\n",
        "    bottom = im[row-2:row, 0:col]\n",
        "    mean = cv2.mean(bottom)[0]\n",
        "\n",
        "    # border 추가해 정방형 비율로 보정 \n",
        "    border = cv2.copyMakeBorder(\n",
        "        im,\n",
        "        top=0,\n",
        "        bottom=0,\n",
        "        left = int((bordersize-diff)/2),\n",
        "        right = int((bordersize-diff)/2),\n",
        "        borderType = cv2.BORDER_CONSTANT,\n",
        "        value = [mean, mean, mean]\n",
        "    )\n",
        "\n",
        "    square=border\n",
        "    cv2_imshow(square)\n",
        "    #square 사이즈 (28,28)로 \n",
        "    resize_img = cv2.resize(square, dsize=(28,28), interpolation = cv2.INTER_AREA)\n",
        "    mnist_imgs.append(resize_img)"
      ],
      "metadata": {
        "colab": {
          "base_uri": "https://localhost:8080/",
          "height": 850
        },
        "id": "coND_h9_aXLY",
        "outputId": "3be499d9-229f-43d7-9e03-1fdc2337f8f4"
      },
      "execution_count": 20,
      "outputs": [
        {
          "output_type": "display_data",
          "data": {
            "text/plain": [
              "<PIL.Image.Image image mode=L size=41x42 at 0x7F2F52045690>"
            ],
            "image/png": "[encoded data removed]"
          },
          "metadata": {}
        },
        {
          "output_type": "display_data",
          "data": {
            "text/plain": [
              "<PIL.Image.Image image mode=L size=46x46 at 0x7F2F52045610>"
            ],
            "image/png": "[encoded data removed]"
          },
          "metadata": {}
        },
        {
          "output_type": "display_data",
          "data": {
            "text/plain": [
              "<PIL.Image.Image image mode=L size=43x43 at 0x7F2F52045450>"
            ],
            "image/png": "[encoded data removed]"
          },
          "metadata": {}
        },
        {
          "output_type": "display_data",
          "data": {
            "text/plain": [
              "<PIL.Image.Image image mode=L size=43x43 at 0x7F2F52045690>"
            ],
            "image/png": "[encoded data removed]"
          },
          "metadata": {}
        },
        {
          "output_type": "display_data",
          "data": {
            "text/plain": [
              "<PIL.Image.Image image mode=L size=44x45 at 0x7F2F52045450>"
            ],
            "image/png": "[encoded data removed]"
          },
          "metadata": {}
        },
        {
          "output_type": "display_data",
          "data": {
            "text/plain": [
              "<PIL.Image.Image image mode=L size=41x41 at 0x7F2F52045390>"
            ],
            "image/png": "[encoded data removed]"
          },
          "metadata": {}
        },
        {
          "output_type": "display_data",
          "data": {
            "text/plain": [
              "<PIL.Image.Image image mode=L size=44x45 at 0x7F2F52045450>"
            ],
            "image/png": "[encoded data removed]"
          },
          "metadata": {}
        },
        {
          "output_type": "display_data",
          "data": {
            "text/plain": [
              "<PIL.Image.Image image mode=L size=41x42 at 0x7F2F52045390>"
            ],
            "image/png": "[encoded data removed]"
          },
          "metadata": {}
        },
        {
          "output_type": "display_data",
          "data": {
            "text/plain": [
              "<PIL.Image.Image image mode=L size=43x44 at 0x7F2F3512C210>"
            ],
            "image/png": "[encoded data removed]"
          },
          "metadata": {}
        },
        {
          "output_type": "display_data",
          "data": {
            "text/plain": [
              "<PIL.Image.Image image mode=L size=42x43 at 0x7F2F52045410>"
            ],
            "image/png": "[encoded data removed]"
          },
          "metadata": {}
        },
        {
          "output_type": "display_data",
          "data": {
            "text/plain": [
              "<PIL.Image.Image image mode=L size=44x45 at 0x7F2F3512C210>"
            ],
            "image/png": "[encoded data removed]"
          },
          "metadata": {}
        },
        {
          "output_type": "display_data",
          "data": {
            "text/plain": [
              "<PIL.Image.Image image mode=L size=44x44 at 0x7F2F3512C210>"
            ],
            "image/png": "[encoded data removed]"
          },
          "metadata": {}
        },
        {
          "output_type": "display_data",
          "data": {
            "text/plain": [
              "<PIL.Image.Image image mode=L size=44x44 at 0x7F2F520454D0>"
            ],
            "image/png": "[encoded data removed]"
          },
          "metadata": {}
        },
        {
          "output_type": "display_data",
          "data": {
            "text/plain": [
              "<PIL.Image.Image image mode=L size=43x43 at 0x7F2F351A3710>"
            ],
            "image/png": "[encoded data removed]"
          },
          "metadata": {}
        },
        {
          "output_type": "display_data",
          "data": {
            "text/plain": [
              "<PIL.Image.Image image mode=L size=45x46 at 0x7F2F520454D0>"
            ],
            "image/png": "[encoded data removed]"
          },
          "metadata": {}
        },
        {
          "output_type": "display_data",
          "data": {
            "text/plain": [
              "<PIL.Image.Image image mode=L size=39x39 at 0x7F2F520454D0>"
            ],
            "image/png": "[encoded data removed]"
          },
          "metadata": {}
        },
        {
          "output_type": "display_data",
          "data": {
            "text/plain": [
              "<PIL.Image.Image image mode=L size=47x47 at 0x7F2F52045390>"
            ],
            "image/png": "[encoded data removed]"
          },
          "metadata": {}
        },
        {
          "output_type": "display_data",
          "data": {
            "text/plain": [
              "<PIL.Image.Image image mode=L size=46x42 at 0x7F2F52045390>"
            ],
            "image/png": "[encoded data removed]"
          },
          "metadata": {}
        },
        {
          "output_type": "display_data",
          "data": {
            "text/plain": [
              "<PIL.Image.Image image mode=L size=48x49 at 0x7F2F52045690>"
            ],
            "image/png": "[encoded data removed]"
          },
          "metadata": {}
        }
      ]
    },
    {
      "cell_type": "code",
      "source": [
        "for i in range(len(mnist_imgs)):\n",
        "    img = mnist_imgs[i]\n",
        "    cv2_imshow(img)\n",
        "    #사이즈 변환\n",
        "    img = img.reshape(-1,28,28,1)\n",
        "    #데이터 정규화 \n",
        "    input_data = ((np.array(img)/255) - 1) * -1\n",
        "    \n",
        "    # 결과 \n",
        "    res = np.argmax(model.predict(input_data), axis = -1)\n",
        "\n",
        "    print(res)"
      ],
      "metadata": {
        "colab": {
          "base_uri": "https://localhost:8080/",
          "height": 1000
        },
        "id": "MYDe0C-HhBrt",
        "outputId": "a9a9af46-3c1b-4eaf-a134-9ce87365ce5a"
      },
      "execution_count": 21,
      "outputs": [
        {
          "output_type": "display_data",
          "data": {
            "text/plain": [
              "<PIL.Image.Image image mode=L size=28x28 at 0x7F2F52035310>"
            ],
            "image/png": "[encoded data removed]"
          },
          "metadata": {}
        },
        {
          "output_type": "stream",
          "name": "stdout",
          "text": [
            "1/1 [==============================] - 0s 127ms/step\n",
            "[1]\n"
          ]
        },
        {
          "output_type": "display_data",
          "data": {
            "text/plain": [
              "<PIL.Image.Image image mode=L size=28x28 at 0x7F2F5202CAD0>"
            ],
            "image/png": "[encoded data removed]"
          },
          "metadata": {}
        },
        {
          "output_type": "stream",
          "name": "stdout",
          "text": [
            "1/1 [==============================] - 0s 17ms/step\n",
            "[1]\n"
          ]
        },
        {
          "output_type": "display_data",
          "data": {
            "text/plain": [
              "<PIL.Image.Image image mode=L size=28x28 at 0x7F2F3510D5D0>"
            ],
            "image/png": "[encoded data removed]"
          },
          "metadata": {}
        },
        {
          "output_type": "stream",
          "name": "stdout",
          "text": [
            "1/1 [==============================] - 0s 18ms/step\n",
            "[1]\n"
          ]
        },
        {
          "output_type": "display_data",
          "data": {
            "text/plain": [
              "<PIL.Image.Image image mode=L size=28x28 at 0x7F2F35151F50>"
            ],
            "image/png": "[encoded data removed]"
          },
          "metadata": {}
        },
        {
          "output_type": "stream",
          "name": "stdout",
          "text": [
            "1/1 [==============================] - 0s 16ms/step\n",
            "[1]\n"
          ]
        },
        {
          "output_type": "display_data",
          "data": {
            "text/plain": [
              "<PIL.Image.Image image mode=L size=28x28 at 0x7F2F350DDA50>"
            ],
            "image/png": "[encoded data removed]"
          },
          "metadata": {}
        },
        {
          "output_type": "stream",
          "name": "stdout",
          "text": [
            "1/1 [==============================] - 0s 17ms/step\n",
            "[1]\n"
          ]
        },
        {
          "output_type": "display_data",
          "data": {
            "text/plain": [
              "<PIL.Image.Image image mode=L size=28x28 at 0x7F2F82374790>"
            ],
            "image/png": "[encoded data removed]"
          },
          "metadata": {}
        },
        {
          "output_type": "stream",
          "name": "stdout",
          "text": [
            "1/1 [==============================] - 0s 17ms/step\n",
            "[1]\n"
          ]
        },
        {
          "output_type": "display_data",
          "data": {
            "text/plain": [
              "<PIL.Image.Image image mode=L size=28x28 at 0x7F2F3511A990>"
            ],
            "image/png": "[encoded data removed]"
          },
          "metadata": {}
        },
        {
          "output_type": "stream",
          "name": "stdout",
          "text": [
            "1/1 [==============================] - 0s 17ms/step\n",
            "[9]\n"
          ]
        },
        {
          "output_type": "display_data",
          "data": {
            "text/plain": [
              "<PIL.Image.Image image mode=L size=28x28 at 0x7F2F351570D0>"
            ],
            "image/png": "[encoded data removed]"
          },
          "metadata": {}
        },
        {
          "output_type": "stream",
          "name": "stdout",
          "text": [
            "1/1 [==============================] - 0s 16ms/step\n",
            "[1]\n"
          ]
        },
        {
          "output_type": "display_data",
          "data": {
            "text/plain": [
              "<PIL.Image.Image image mode=L size=28x28 at 0x7F2F350E4AD0>"
            ],
            "image/png": "[encoded data removed]"
          },
          "metadata": {}
        },
        {
          "output_type": "stream",
          "name": "stdout",
          "text": [
            "1/1 [==============================] - 0s 15ms/step\n",
            "[1]\n"
          ]
        },
        {
          "output_type": "display_data",
          "data": {
            "text/plain": [
              "<PIL.Image.Image image mode=L size=28x28 at 0x7F2F351570D0>"
            ],
            "image/png": "[encoded data removed]"
          },
          "metadata": {}
        },
        {
          "output_type": "stream",
          "name": "stdout",
          "text": [
            "1/1 [==============================] - 0s 16ms/step\n",
            "[1]\n"
          ]
        },
        {
          "output_type": "display_data",
          "data": {
            "text/plain": [
              "<PIL.Image.Image image mode=L size=28x28 at 0x7F2F35078890>"
            ],
            "image/png": "[encoded data removed]"
          },
          "metadata": {}
        },
        {
          "output_type": "stream",
          "name": "stdout",
          "text": [
            "1/1 [==============================] - 0s 16ms/step\n",
            "[9]\n"
          ]
        },
        {
          "output_type": "display_data",
          "data": {
            "text/plain": [
              "<PIL.Image.Image image mode=L size=28x28 at 0x7F2F3503DA10>"
            ],
            "image/png": "[encoded data removed]"
          },
          "metadata": {}
        },
        {
          "output_type": "stream",
          "name": "stdout",
          "text": [
            "1/1 [==============================] - 0s 17ms/step\n",
            "[9]\n"
          ]
        },
        {
          "output_type": "display_data",
          "data": {
            "text/plain": [
              "<PIL.Image.Image image mode=L size=28x28 at 0x7F2F350884D0>"
            ],
            "image/png": "[encoded data removed]"
          },
          "metadata": {}
        },
        {
          "output_type": "stream",
          "name": "stdout",
          "text": [
            "1/1 [==============================] - 0s 17ms/step\n",
            "[1]\n"
          ]
        },
        {
          "output_type": "display_data",
          "data": {
            "text/plain": [
              "<PIL.Image.Image image mode=L size=28x28 at 0x7F2F823E40D0>"
            ],
            "image/png": "[encoded data removed]"
          },
          "metadata": {}
        },
        {
          "output_type": "stream",
          "name": "stdout",
          "text": [
            "1/1 [==============================] - 0s 15ms/step\n",
            "[1]\n"
          ]
        },
        {
          "output_type": "display_data",
          "data": {
            "text/plain": [
              "<PIL.Image.Image image mode=L size=28x28 at 0x7F2F33225C50>"
            ],
            "image/png": "[encoded data removed]"
          },
          "metadata": {}
        },
        {
          "output_type": "stream",
          "name": "stdout",
          "text": [
            "1/1 [==============================] - 0s 17ms/step\n",
            "[1]\n"
          ]
        },
        {
          "output_type": "display_data",
          "data": {
            "text/plain": [
              "<PIL.Image.Image image mode=L size=28x28 at 0x7F2F35063450>"
            ],
            "image/png": "[encoded data removed]"
          },
          "metadata": {}
        },
        {
          "output_type": "stream",
          "name": "stdout",
          "text": [
            "1/1 [==============================] - 0s 16ms/step\n",
            "[1]\n"
          ]
        },
        {
          "output_type": "display_data",
          "data": {
            "text/plain": [
              "<PIL.Image.Image image mode=L size=28x28 at 0x7F2F35082F90>"
            ],
            "image/png": "[encoded data removed]"
          },
          "metadata": {}
        },
        {
          "output_type": "stream",
          "name": "stdout",
          "text": [
            "1/1 [==============================] - 0s 16ms/step\n",
            "[1]\n"
          ]
        },
        {
          "output_type": "display_data",
          "data": {
            "text/plain": [
              "<PIL.Image.Image image mode=L size=28x28 at 0x7F2F350BE750>"
            ],
            "image/png": "[encoded data removed]"
          },
          "metadata": {}
        },
        {
          "output_type": "stream",
          "name": "stdout",
          "text": [
            "1/1 [==============================] - 0s 15ms/step\n",
            "[1]\n"
          ]
        },
        {
          "output_type": "display_data",
          "data": {
            "text/plain": [
              "<PIL.Image.Image image mode=L size=28x28 at 0x7F2F350FB190>"
            ],
            "image/png": "[encoded data removed]"
          },
          "metadata": {}
        },
        {
          "output_type": "stream",
          "name": "stdout",
          "text": [
            "1/1 [==============================] - 0s 16ms/step\n",
            "[1]\n"
          ]
        }
      ]
    },
    {
      "cell_type": "code",
      "source": [
        "len(mnist_imgs)"
      ],
      "metadata": {
        "colab": {
          "base_uri": "https://localhost:8080/"
        },
        "id": "OlNdEDsIijSl",
        "outputId": "76e8feb2-10d5-4815-8276-bfb7258ae03b"
      },
      "execution_count": 22,
      "outputs": [
        {
          "output_type": "execute_result",
          "data": {
            "text/plain": [
              "19"
            ]
          },
          "metadata": {},
          "execution_count": 22
        }
      ]
    },
    {
      "cell_type": "code",
      "source": [],
      "metadata": {
        "id": "5HpL4Me6T3YQ"
      },
      "execution_count": 22,
      "outputs": []
    }
  ]
}